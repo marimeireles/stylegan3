{
  "nbformat": 4,
  "nbformat_minor": 0,
  "metadata": {
    "accelerator": "GPU",
    "colab": {
      "name": "stylegan3 tattoo gen.ipynb",
      "provenance": [],
      "collapsed_sections": [],
      "machine_shape": "hm"
    },
    "kernelspec": {
      "display_name": "Python 3",
      "name": "python3"
    },
    "language_info": {
      "name": "python"
    }
  },
  "cells": [
    {
      "cell_type": "markdown",
      "metadata": {
        "id": "Vn5kRZG8cZFl"
      },
      "source": [
        "# StyleGAN3 from NVIDIA\n",
        "\n",
        "**Notes**\n",
        "* To see the original code from NVIDIA [Check here](https://github.com/NVlabs/stylegan3)\n",
        "* We are using a pretrained model and fine-tuning on top of it.\n",
        "* If you come across bugs please post them in [Discord](https://discord.com/invite/awREd7EtMA)\n",
        "\n",
        "---\n",
        "\n",
        "If you find this notebook useful, consider signing up for my [Code Sprout Newsletter](https://codesprout.substack.com/welcome) or [Check my links](https://shyambv.bio.link/)\n",
        "\n",
        "Medium article related to it is mentioned []()"
      ]
    },
    {
      "cell_type": "markdown",
      "metadata": {
        "id": "L4Y28xIshBYs"
      },
      "source": [
        "# Setup"
      ]
    },
    {
      "cell_type": "code",
      "metadata": {
        "colab": {
          "base_uri": "https://localhost:8080/"
        },
        "id": "APfJ_U0vx1rH",
        "outputId": "cd437650-3aba-412e-9657-3143931056b3"
      },
      "source": [
        "!pip install einops ninja gdown"
      ],
      "execution_count": 1,
      "outputs": [
        {
          "output_type": "stream",
          "name": "stdout",
          "text": [
            "Collecting einops\n",
            "  Downloading einops-0.4.0-py3-none-any.whl (28 kB)\n",
            "Collecting ninja\n",
            "  Downloading ninja-1.10.2.3-py2.py3-none-manylinux_2_5_x86_64.manylinux1_x86_64.whl (108 kB)\n",
            "\u001b[K     |████████████████████████████████| 108 kB 7.7 MB/s \n",
            "\u001b[?25hRequirement already satisfied: gdown in /usr/local/lib/python3.7/dist-packages (4.2.1)\n",
            "Requirement already satisfied: six in /usr/local/lib/python3.7/dist-packages (from gdown) (1.15.0)\n",
            "Requirement already satisfied: requests[socks] in /usr/local/lib/python3.7/dist-packages (from gdown) (2.23.0)\n",
            "Requirement already satisfied: tqdm in /usr/local/lib/python3.7/dist-packages (from gdown) (4.62.3)\n",
            "Requirement already satisfied: filelock in /usr/local/lib/python3.7/dist-packages (from gdown) (3.4.2)\n",
            "Requirement already satisfied: beautifulsoup4 in /usr/local/lib/python3.7/dist-packages (from gdown) (4.6.3)\n",
            "Requirement already satisfied: urllib3!=1.25.0,!=1.25.1,<1.26,>=1.21.1 in /usr/local/lib/python3.7/dist-packages (from requests[socks]->gdown) (1.24.3)\n",
            "Requirement already satisfied: chardet<4,>=3.0.2 in /usr/local/lib/python3.7/dist-packages (from requests[socks]->gdown) (3.0.4)\n",
            "Requirement already satisfied: certifi>=2017.4.17 in /usr/local/lib/python3.7/dist-packages (from requests[socks]->gdown) (2021.10.8)\n",
            "Requirement already satisfied: idna<3,>=2.5 in /usr/local/lib/python3.7/dist-packages (from requests[socks]->gdown) (2.10)\n",
            "Requirement already satisfied: PySocks!=1.5.7,>=1.5.6 in /usr/local/lib/python3.7/dist-packages (from requests[socks]->gdown) (1.7.1)\n",
            "Installing collected packages: ninja, einops\n",
            "Successfully installed einops-0.4.0 ninja-1.10.2.3\n"
          ]
        }
      ]
    },
    {
      "cell_type": "code",
      "metadata": {
        "colab": {
          "base_uri": "https://localhost:8080/"
        },
        "id": "WbCGexOebBGi",
        "outputId": "7d8922cb-508f-464c-8cff-7509fc6ec729"
      },
      "source": [
        "# Connect Google Drive\n",
        "from google.colab import drive\n",
        "drive.mount('/content/drive')"
      ],
      "execution_count": 10,
      "outputs": [
        {
          "output_type": "stream",
          "name": "stdout",
          "text": [
            "Mounted at /content/drive\n"
          ]
        }
      ]
    },
    {
      "cell_type": "code",
      "metadata": {
        "id": "00S7pPSdhZ5g",
        "colab": {
          "base_uri": "https://localhost:8080/"
        },
        "outputId": "2af482ec-2fdb-4166-b67a-c3c5c92a784a"
      },
      "source": [
        "import os\n",
        "if os.path.isdir('/content/drive/MyDrive/WIP/stylegan3//datasets'):\n",
        "    %cd '/content/drive/MyDrive/WIP/stylegan3/datasets'\n",
        "else:\n",
        "    !git clone https://github.com/marimeireles/stylegan3.git /content/drive/MyDrive/WIP/stylegan3/\n",
        "    %mkdir datasets/\n"
      ],
      "execution_count": 11,
      "outputs": [
        {
          "output_type": "stream",
          "name": "stdout",
          "text": [
            "/content/drive/MyDrive/WIP/stylegan3/datasets\n"
          ]
        }
      ]
    },
    {
      "cell_type": "code",
      "metadata": {
        "id": "_4VLf_dn4JGd",
        "colab": {
          "base_uri": "https://localhost:8080/"
        },
        "outputId": "9197e7f9-4246-4199-a228-fdcbb6c25077"
      },
      "source": [
        "#Download wikiart relevant datasets\n",
        "!python wikiart.py --genre sketch-and-study --output_dir datasets"
      ],
      "execution_count": 11,
      "outputs": [
        {
          "output_type": "stream",
          "name": "stdout",
          "text": [
            "gathering links to images... this may take a few minutes\n",
            "attempting to download 3652 images\n",
            "downloaded number 100 / 3652...\n",
            "downloaded number 200 / 3652...\n",
            "downloaded number 300 / 3652...\n",
            "downloaded number 400 / 3652...\n",
            "downloaded number 500 / 3652...\n",
            "failed downloading https://uploads0.wikiart.org/images/matthias-grünewald/upper-arm-study-1514.jpg 'ascii' codec can't encode character '\\xfc' in position 23: ordinal not in range(128)\n",
            "downloaded number 600 / 3652...\n",
            "failed downloading https://uploads1.wikiart.org/images/michelangelo/san-lorenzo-façade.jpg 'ascii' codec can't encode character '\\xe7' in position 39: ordinal not in range(128)\n",
            "failed downloading https://uploads2.wikiart.org/images/rembrandt/emperor-akbar-and-his-son-the-future-eperor-djahângir-1656.jpg 'ascii' codec can't encode character '\\xe2' in position 70: ordinal not in range(128)\n",
            "failed downloading https://uploads6.wikiart.org/images/vincent-van-gogh/portrait-of-père-tanguy-1887.jpg 'ascii' codec can't encode character '\\xe8' in position 42: ordinal not in range(128)\n",
            "downloaded number 700 / 3652...\n",
            "failed downloading https://uploads6.wikiart.org/images/vincent-van-gogh/a-mousmé-half-figure-1888(1).jpg 'ascii' codec can't encode character '\\xe9' in position 36: ordinal not in range(128)\n",
            "failed downloading https://uploads2.wikiart.org/images/matthias-grünewald/smiling-woman.jpg 'ascii' codec can't encode character '\\xfc' in position 23: ordinal not in range(128)\n",
            "downloaded number 800 / 3652...\n",
            "failed downloading https://uploads8.wikiart.org/images/georges-seurat/study-for-un-dimanche-d-été-à-la-grande-jatte-1885.jpg 'ascii' codec can't encode character '\\xe9' in position 51: ordinal not in range(128)\n",
            "downloaded number 900 / 3652...\n",
            "failed downloading https://uploads2.wikiart.org/images/vincent-van-gogh/view-of-paris-with-the-hôtel-de-ville-and-the-tour-saint-jacques-1886.jpg 'ascii' codec can't encode character '\\xf4' in position 53: ordinal not in range(128)\n",
            "failed downloading https://uploads5.wikiart.org/images/matthias-grünewald/unfinished-study.jpg 'ascii' codec can't encode character '\\xfc' in position 23: ordinal not in range(128)\n",
            "failed downloading https://uploads3.wikiart.org/images/matthias-grünewald/mary-with-the-sun-below-her-feet.jpg 'ascii' codec can't encode character '\\xfc' in position 23: ordinal not in range(128)\n",
            "downloaded number 1000 / 3652...\n",
            "downloaded number 1100 / 3652...\n",
            "failed downloading https://uploads2.wikiart.org/images/matthias-grünewald/virgin-of-the-annunciation-1514.jpg 'ascii' codec can't encode character '\\xfc' in position 23: ordinal not in range(128)\n",
            "failed downloading https://uploads8.wikiart.org/images/matthias-grünewald/mary-with-the-child-and-young-st-john.jpg 'ascii' codec can't encode character '\\xfc' in position 23: ordinal not in range(128)\n",
            "downloaded number 1200 / 3652...\n",
            "downloaded number 1300 / 3652...\n",
            "downloaded number 1400 / 3652...\n",
            "downloaded number 1500 / 3652...\n",
            "failed downloading https://uploads0.wikiart.org/images/gustave-moreau/salomé.jpg 'ascii' codec can't encode character '\\xe9' in position 32: ordinal not in range(128)\n",
            "downloaded number 1600 / 3652...\n",
            "failed downloading https://uploads1.wikiart.org/images/matthias-grünewald/st-catherine.jpg 'ascii' codec can't encode character '\\xfc' in position 23: ordinal not in range(128)\n",
            "downloaded number 1700 / 3652...\n",
            "downloaded number 1800 / 3652...\n",
            "downloaded number 1900 / 3652...\n",
            "failed downloading https://uploads0.wikiart.org/images/matthias-grünewald/complaining-pharisee.jpg 'ascii' codec can't encode character '\\xfc' in position 23: ordinal not in range(128)\n",
            "downloaded number 2000 / 3652...\n",
            "failed downloading https://uploads2.wikiart.org/images/vincent-van-gogh/a-mousmé-sitting-1888(1).jpg 'ascii' codec can't encode character '\\xe9' in position 36: ordinal not in range(128)\n",
            "failed downloading https://uploads6.wikiart.org/images/matthias-grünewald/an-apostle-from-the-transfiguration.jpg 'ascii' codec can't encode character '\\xfc' in position 23: ordinal not in range(128)\n",
            "downloaded number 2100 / 3652...\n",
            "downloaded number 2200 / 3652...\n",
            "failed downloading https://uploads2.wikiart.org/images/matthias-grünewald/drapery-study.jpg 'ascii' codec can't encode character '\\xfc' in position 23: ordinal not in range(128)\n",
            "failed downloading https://uploads2.wikiart.org/images/matthias-grünewald/head-of-a-shouting-man.jpg 'ascii' codec can't encode character '\\xfc' in position 23: ordinal not in range(128)\n",
            "downloaded number 2300 / 3652...\n",
            "failed downloading https://uploads1.wikiart.org/images/matthias-grünewald/virgin-and-child-1519.jpg 'ascii' codec can't encode character '\\xfc' in position 23: ordinal not in range(128)\n",
            "downloaded number 2400 / 3652...\n",
            "failed downloading https://uploads8.wikiart.org/images/matthias-grünewald/st-dorothy-with-the-basket-of-flowers.jpg 'ascii' codec can't encode character '\\xfc' in position 23: ordinal not in range(128)\n",
            "failed downloading https://uploads7.wikiart.org/images/matthias-grünewald/forearm-study-1514.jpg 'ascii' codec can't encode character '\\xfc' in position 23: ordinal not in range(128)\n",
            "downloaded number 2500 / 3652...\n",
            "failed downloading https://uploads1.wikiart.org/images/tintoretto/design-for-an-allegory-of-fortune-felicità-1564.jpg 'ascii' codec can't encode character '\\xe0' in position 64: ordinal not in range(128)\n",
            "failed downloading https://uploads5.wikiart.org/images/edouard-manet/a-café-interiour-1869.jpg 'ascii' codec can't encode character '\\xe9' in position 31: ordinal not in range(128)\n",
            "downloaded number 2600 / 3652...\n",
            "downloaded number 2700 / 3652...\n",
            "failed downloading https://uploads1.wikiart.org/images/matthias-grünewald/head-of-a-young-woman.jpg 'ascii' codec can't encode character '\\xfc' in position 23: ordinal not in range(128)\n",
            "downloaded number 2800 / 3652...\n",
            "downloaded number 2900 / 3652...\n",
            "failed downloading https://uploads0.wikiart.org/images/matthias-grünewald/kneeling-king-with-two-angels.jpg 'ascii' codec can't encode character '\\xfc' in position 23: ordinal not in range(128)\n",
            "failed downloading https://uploads4.wikiart.org/images/matthias-grünewald/head-of-a-shouting-man-1.jpg 'ascii' codec can't encode character '\\xfc' in position 23: ordinal not in range(128)\n",
            "downloaded number 3000 / 3652...\n",
            "downloaded number 3100 / 3652...\n",
            "downloaded number 3200 / 3652...\n",
            "downloaded number 3300 / 3652...\n",
            "downloaded number 3400 / 3652...\n",
            "failed downloading https://uploads4.wikiart.org/images/matthias-grünewald/virgin-of-the-annunciation-1514-1.jpg 'ascii' codec can't encode character '\\xfc' in position 23: ordinal not in range(128)\n",
            "downloaded number 3500 / 3652...\n",
            "failed downloading https://uploads8.wikiart.org/images/matthias-grünewald/an-apostle-from-the-transfiguration-1.jpg 'ascii' codec can't encode character '\\xfc' in position 23: ordinal not in range(128)\n",
            "downloaded number 3600 / 3652...\n"
          ]
        }
      ]
    },
    {
      "cell_type": "code",
      "source": [
        "#Download pinterest by tag\n"
      ],
      "metadata": {
        "colab": {
          "base_uri": "https://localhost:8080/"
        },
        "id": "6kedVGp7uzqJ",
        "outputId": "0982fefc-20dc-4c25-c16b-a44548ada3e6"
      },
      "execution_count": 8,
      "outputs": [
        {
          "output_type": "stream",
          "name": "stdout",
          "text": [
            "\u001b[0m\u001b[01;34msample_data\u001b[0m/\n"
          ]
        }
      ]
    },
    {
      "cell_type": "markdown",
      "metadata": {
        "id": "TowZS-EIjjxw"
      },
      "source": [
        "# Custom Dataset"
      ]
    },
    {
      "cell_type": "markdown",
      "metadata": {
        "id": "EFhH_aHtj934"
      },
      "source": [
        "Execute the dataset_tool.py and provide the source and destination of the input dataset. Also mention the resolution required.\n",
        "\n",
        "Examples:\n",
        "\n",
        "\n",
        "\n",
        "```\n",
        "python dataset_tool.py --source=~/downloads/afhqv2/train/cat --dest=~/datasets/afhqv2cat-512x512.zip\n",
        "python dataset_tool.py --source=~/downloads/afhqv2/train/dog --dest=~/datasets/afhqv2dog-512x512.zip\n",
        "python dataset_tool.py --source=~/downloads/afhqv2/train/wild --dest=~/datasets/afhqv2wild-512x512.zip\n",
        "```\n",
        "\n",
        "\n"
      ]
    },
    {
      "cell_type": "code",
      "metadata": {
        "colab": {
          "base_uri": "https://localhost:8080/"
        },
        "id": "c-MMpE-M6I-j",
        "outputId": "07054e70-ee81-4157-945a-96db048279f3"
      },
      "source": [
        "!python dataset_tool.py --source=/content/artimages/ --dest=/content/drive/MyDrive/WIP/stylegan3/datasets/artimages-512x512.zip --resolution='512x512'\n"
      ],
      "execution_count": null,
      "outputs": [
        {
          "name": "stdout",
          "output_type": "stream",
          "text": [
            "\r  0% 0/2 [00:00<?, ?it/s]\r100% 2/2 [00:00<00:00, 13.43it/s]\r100% 2/2 [00:00<00:00, 13.41it/s]\n"
          ]
        }
      ]
    },
    {
      "cell_type": "code",
      "metadata": {
        "id": "GZWpgi9Ij-3q"
      },
      "source": [
        "#Unzip the transformed data if you wanted to verify\n",
        "!unzip /content/drive/MyDrive/WIP/stylegan3/datasets/artimages-512x512.zip -d /content/data/artimages_unzipped"
      ],
      "execution_count": null,
      "outputs": []
    },
    {
      "cell_type": "markdown",
      "metadata": {
        "id": "5YPvBu7plAqg"
      },
      "source": [
        "# Model training"
      ]
    },
    {
      "cell_type": "markdown",
      "metadata": {
        "id": "Vb71nLldlDib"
      },
      "source": [
        "You can start from a pre-trained model. Below are some of the models from Nvdia\n",
        "\n",
        "\n",
        "\n",
        "```\n",
        "stylegan3-t-ffhq-1024x1024.pkl, stylegan3-t-ffhqu-1024x1024.pkl, stylegan3-t-ffhqu-256x256.pkl\n",
        "stylegan3-r-ffhq-1024x1024.pkl, stylegan3-r-ffhqu-1024x1024.pkl, stylegan3-r-ffhqu-256x256.pkl\n",
        "stylegan3-t-metfaces-1024x1024.pkl, stylegan3-t-metfacesu-1024x1024.pkl\n",
        "stylegan3-r-metfaces-1024x1024.pkl, stylegan3-r-metfacesu-1024x1024.pkl\n",
        "stylegan3-t-afhqv2-512x512.pkl\n",
        "stylegan3-r-afhqv2-512x512.pkl\n",
        "```\n",
        "\n"
      ]
    },
    {
      "cell_type": "markdown",
      "metadata": {
        "id": "xYAosYKxlGBs"
      },
      "source": [
        "## Using pre-trainined model"
      ]
    },
    {
      "cell_type": "code",
      "metadata": {
        "id": "6Dt7NAJ6EYhe"
      },
      "source": [
        "\n",
        "# Fine-tune StyleGAN3-R for MetFaces-U using 1 GPU, starting from the pre-trained FFHQ-U pickle.\n",
        "!python /content/drive/MyDrive/WIP/stylegan3/train.py --outdir=~/training-runs --cfg=stylegan3-r --data=/content/artimages-512x512.zip \\\n",
        "    --gpus=1 --batch=32 --batch-gpu=16 --gamma=6.6 --mirror=1 --kimg=500 --snap=5 \\\n",
        "    --resume=https://api.ngc.nvidia.com/v2/models/nvidia/research/stylegan3/versions/1/files/stylegan3-r-ffhqu-1024x1024.pkl\n"
      ],
      "execution_count": null,
      "outputs": []
    },
    {
      "cell_type": "markdown",
      "metadata": {
        "id": "bJ5NFiJpm-Mf"
      },
      "source": [
        "## Finetuning a model"
      ]
    },
    {
      "cell_type": "code",
      "metadata": {
        "id": "0z2DJq9InBUl"
      },
      "source": [
        "batch_size = 16\n",
        "batch_gpu_size = 8 # Batch size for GPU\n",
        "\n",
        "dataset_path = '/content/drive/MyDrive/WIP/stylegan3/datasets/artimages-512x512.zip'\n",
        "#resume_from = '/content/drive/MyDrive/WIP/stylegan3/models/stylegan3-t-afhqv2-512x512.pkl'  #Can be the link from nvidia\n",
        "resume_from ='/content/drive/MyDrive/WIP/stylegan3/models/network-a657-r-512-148863.pkl'\n",
        "\n",
        "\n",
        "gamma_value = 50.0 #Adjustable R1 regularization weight\n",
        "snapshot_count = 8"
      ],
      "execution_count": null,
      "outputs": []
    },
    {
      "cell_type": "code",
      "metadata": {
        "id": "msjpvR1Z0UM8"
      },
      "source": [
        "\n",
        "# Fine-tune StyleGAN3-R for MetFaces-U using 1 GPU, starting from the pre-trained FFHQ-U pickle.\n",
        "!python /content/drive/MyDrive/WIP/stylegan3/train.py --outdir=/content/drive/MyDrive/WIP/stylegan3/results --cfg=stylegan3-t \\\n",
        "--data=$dataset_path --gpus=1 --batch=$batch_size --batch-gpu=$batch_gpu_size --gamma=$gamma_value --kimg=1 \\\n",
        "--snap=$snapshot_count --resume=$resume_from\n",
        "\n"
      ],
      "execution_count": null,
      "outputs": []
    },
    {
      "cell_type": "code",
      "metadata": {
        "id": "MM2QNuOv00q7"
      },
      "source": [
        ""
      ],
      "execution_count": null,
      "outputs": []
    },
    {
      "cell_type": "code",
      "metadata": {
        "id": "4nd9sBc00UPU"
      },
      "source": [
        ""
      ],
      "execution_count": null,
      "outputs": []
    },
    {
      "cell_type": "code",
      "metadata": {
        "id": "vtYpyFAu0URw"
      },
      "source": [
        "#Visualization - does not work on colab\n",
        "#!python /content/drive/MyDrive/WIP/stylegan3/visualizer.py"
      ],
      "execution_count": null,
      "outputs": []
    },
    {
      "cell_type": "code",
      "metadata": {
        "id": "YCzcuKTJ0iEW"
      },
      "source": [
        ""
      ],
      "execution_count": null,
      "outputs": []
    },
    {
      "cell_type": "markdown",
      "metadata": {
        "id": "tYw4XWfXhgWk"
      },
      "source": [
        "# Generate images"
      ]
    },
    {
      "cell_type": "code",
      "metadata": {
        "id": "VrSWGWIjykbE"
      },
      "source": [
        "model_path = '/content/drive/MyDrive/WIP/stylegan3/results/00002-stylegan3-t-artimages-512x512-gpus1-batch16-gamma50/network-snapshot-000001.pkl'"
      ],
      "execution_count": null,
      "outputs": []
    },
    {
      "cell_type": "code",
      "metadata": {
        "id": "lYsuiuwIykhn"
      },
      "source": [
        "#Random generation of images using model created\n",
        "\n",
        "!python /content/drive/MyDrive/WIP/stylegan3/gen_images.py --outdir=out --trunc=1 --seeds=40 \\\n",
        "    --network=$model_path"
      ],
      "execution_count": null,
      "outputs": []
    },
    {
      "cell_type": "markdown",
      "metadata": {
        "id": "ZbGxtqncL0dN"
      },
      "source": [
        "Check-out other articles [Medium](https://bvshyam.medium.com/)"
      ]
    }
  ]
}